{
 "cells": [
  {
   "cell_type": "markdown",
   "id": "0e3969fa-6808-4823-83ba-c2657232f455",
   "metadata": {},
   "source": [
    "## Prepare Env"
   ]
  },
  {
   "cell_type": "markdown",
   "id": "eb41f9bd",
   "metadata": {},
   "source": [
    "### Import common/shared packages"
   ]
  },
  {
   "cell_type": "code",
   "execution_count": null,
   "id": "b01f645d",
   "metadata": {},
   "outputs": [],
   "source": [
    "import os\n",
    "import shutil\n",
    "import subprocess\n",
    "import sys"
   ]
  },
  {
   "cell_type": "markdown",
   "id": "f7d26d5d",
   "metadata": {},
   "source": [
    "### Config logging"
   ]
  },
  {
   "cell_type": "code",
   "execution_count": null,
   "id": "622b4002-f7d0-47c4-a4a8-1cb2c2e5192f",
   "metadata": {},
   "outputs": [],
   "source": [
    "import logging\n",
    "\n",
    "from colorama import Fore, Style\n",
    "\n",
    "class ColorFormatter(logging.Formatter):\n",
    "  COLORS = {\n",
    "    logging.DEBUG: Style.DIM + Fore.CYAN,\n",
    "    logging.INFO: Fore.GREEN,\n",
    "    logging.WARNING: Fore.YELLOW,\n",
    "    logging.ERROR: Fore.RED,\n",
    "    logging.CRITICAL: Style.BRIGHT + Fore.RED,\n",
    "  }\n",
    "\n",
    "  RESET = Style.RESET_ALL\n",
    "\n",
    "  def format(self, record):\n",
    "    log_color = self.COLORS.get(record.levelno, self.RESET)\n",
    "    message = super().format(record)\n",
    "    return f\"{log_color}{message}{self.RESET}\"\n",
    "\n",
    "logger = logging.getLogger(\"Whisper\")\n",
    "handler = logger.root.handlers[0]\n",
    "handler.setLevel(logging.INFO)\n",
    "handler.setFormatter(ColorFormatter(\"%(levelname)s - %(message)s\"))"
   ]
  },
  {
   "cell_type": "markdown",
   "id": "f2291e44-0618-4966-a311-db0267faa90b",
   "metadata": {},
   "source": [
    "### Locating FFmpeg"
   ]
  },
  {
   "cell_type": "code",
   "execution_count": null,
   "id": "990723f8-353b-4cc6-bee0-f04e83b4b413",
   "metadata": {},
   "outputs": [],
   "source": [
    "ffmpeg_path = shutil.which('ffmpeg')\n",
    "if ffmpeg_path:\n",
    "  logger.info(f\"Found FFmpeg at: {ffmpeg_path}\")\n",
    "else:\n",
    "  logger.warning(\"FFmpeg is not found in the current environment's PATH!\")"
   ]
  },
  {
   "cell_type": "markdown",
   "id": "0853428d-283b-4bc4-9d2d-e90999b1126e",
   "metadata": {},
   "source": [
    "### Checking Active Conda Environment"
   ]
  },
  {
   "cell_type": "code",
   "execution_count": null,
   "id": "48c227c8-e46e-4c46-885f-692aeb135895",
   "metadata": {},
   "outputs": [],
   "source": [
    "if 'CONDA_DEFAULT_ENV' not in os.environ:\n",
    "  logging.warning('No Conda environment is activated.')\n",
    "else:\n",
    "  logger.info(f\"Active conda environment: {os.environ['CONDA_DEFAULT_ENV']}\")"
   ]
  },
  {
   "cell_type": "markdown",
   "id": "b97be302-ea35-4009-8f71-c85d9a6dea2f",
   "metadata": {},
   "source": [
    "### Ensure onnxruntime-qnn is installed and onnxruntime is not\n",
    "\n",
    "**FIXME**: Due to an unknown reason causing a conflict between onnxruntime and onnxruntime-qnn, the QNNExecutionProvider will not be available if onnxruntime is installed. Therefore, we need to ensure that onnxruntime-qnn is installed while onnxruntime is not. Additionally, confirm the availability of the QNNExecutionProvider.\n",
    "\n",
    "**TODO**: Investigate the root cause of the conflict."
   ]
  },
  {
   "cell_type": "code",
   "execution_count": null,
   "id": "7b646b5e-7163-4601-99ee-65f8acc5d7f5",
   "metadata": {},
   "outputs": [],
   "source": [
    "from importlib.metadata import packages_distributions\n",
    "\n",
    "# Get the list of installed packages\n",
    "installed_packages = packages_distributions()\n",
    "\n",
    "# Ensure onnxruntime-qnn is installed and other onnxruntimes are not\n",
    "if 'onnxruntime' not in installed_packages:\n",
    "  logger.warning(\"onnxruntime-qnn is not installed. Installing it now...\")\n",
    "  subprocess.check_call([sys.executable, \"-m\", \"pip\", \"install\", \"onnxruntime-qnn==1.20.0\"])\n",
    "else:\n",
    "  # Check that onnxruntimes other than qnn are not installed\n",
    "  ort_dist = installed_packages['onnxruntime'][0]\n",
    "  if ort_dist != 'onnxruntime-qnn':\n",
    "    logger.info(f\"{ort_dist} is installed. Uninstalling it to avoid conflicts...\")\n",
    "    subprocess.check_call([sys.executable, \"-m\", \"pip\", \"uninstall\", \"-y\", ort_dist])\n",
    "    subprocess.check_call([sys.executable, \"-m\", \"pip\", \"install\", \"--force-reinstall\", \"onnxruntime-qnn==1.20.0\"])\n",
    "  else:\n",
    "    logger.info(\"Found onnxruntime-qnn.\")\n",
    "\n",
    "# Check available providers for QNNExecutionProvider\n",
    "try:\n",
    "  from onnxruntime.capi import _pybind_state as C\n",
    "  available_providers = C.get_available_providers()\n",
    "  logger.info(f\"Available ONNX EPs: {available_providers}\")\n",
    "    \n",
    "  if 'QNNExecutionProvider' in available_providers:\n",
    "    logger.info(\"QNNExecutionProvider is available😊\")\n",
    "  else:\n",
    "    logger.error(\"QNNExecutionProvider is not available😱\")\n",
    "except ImportError:\n",
    "  logger.error(\"Failed to import onnxruntime.capi. Reinstall onnxruntime-qnn if necessary.\")"
   ]
  },
  {
   "cell_type": "markdown",
   "id": "90e3a3b1-86a9-4f60-8957-2ea1665becc7",
   "metadata": {},
   "source": [
    "## Prepare Whisper Model (Whisper-Base-En) for QNPU"
   ]
  },
  {
   "cell_type": "markdown",
   "id": "b2fef3ee",
   "metadata": {},
   "source": [
    "### Check QAI Hub config"
   ]
  },
  {
   "cell_type": "code",
   "execution_count": null,
   "id": "951e4357",
   "metadata": {},
   "outputs": [],
   "source": [
    "from qai_hub.client import Client\n",
    "from pprint import pformat\n",
    "\n",
    "try:\n",
    "  logger.info(\"QAI Hub configuration:\")\n",
    "  logger.info(pformat(Client().config, indent=2))\n",
    "except Exception:\n",
    "  logger.error(\n",
    "    \"QAI Hub not found, please run `qai-hub configure --api_token QAI_API_TOKEN`.\")"
   ]
  },
  {
   "cell_type": "markdown",
   "id": "355d4f21-15c6-4e7a-8c59-e79b6bac0234",
   "metadata": {},
   "source": [
    "### Method 1: Utilizing Qualcomm AI Hub"
   ]
  },
  {
   "cell_type": "code",
   "execution_count": null,
   "id": "9a1668ee-546e-4390-8bce-81de6b7974b9",
   "metadata": {},
   "outputs": [],
   "source": [
    "from pathlib import Path\n",
    "\n",
    "cwd = Path(os.path.abspath(''))\n",
    "encoder_file = cwd / 'build' / 'whisper_base_en' / 'WhisperEncoder.onnx'\n",
    "decoder_file = cwd / 'build' / 'whisper_base_en' / 'WhisperDecoder.onnx'\n",
    "model_exists = all(f.exists() for f in [encoder_file, decoder_file])\n",
    "\n",
    "if model_exists:\n",
    "  logger.info(\"Found Whisper-Base-En model😊\")\n",
    "else:\n",
    "  logger.error(\"Can not locate Whisper-Base-En model😟\")"
   ]
  },
  {
   "cell_type": "code",
   "execution_count": null,
   "id": "e46d8723-8c7d-4529-94d2-bae11eb02df2",
   "metadata": {},
   "outputs": [],
   "source": [
    "from qai_hub_models.models.common import TargetRuntime\n",
    "from qai_hub_models.models.whisper_base_en.export import (\n",
    "  ALL_COMPONENTS,\n",
    "  export_model,\n",
    ")\n",
    "\n",
    "if not model_exists:\n",
    "  result = export_model(\n",
    "    device='Snapdragon X Elite CRD',\n",
    "    components=ALL_COMPONENTS,\n",
    "    skip_profiling=True,\n",
    "    skip_inferencing=True,\n",
    "    output_dir=str(cwd / 'build' / 'whisper_base_en'),\n",
    "    target_runtime=TargetRuntime.ONNX,\n",
    "  )\n",
    "  print(result)"
   ]
  },
  {
   "cell_type": "markdown",
   "id": "ae04c26c-9469-4124-b2d4-1856946a8fc5",
   "metadata": {},
   "source": [
    "### [TODO] Method 2: Utilizing ONNX EPContext Generation Script"
   ]
  },
  {
   "cell_type": "code",
   "execution_count": null,
   "id": "4c5b22cf-23e7-4330-a938-ce2d2e086e0e",
   "metadata": {},
   "outputs": [],
   "source": [
    "# TODO\n",
    "\n",
    "cwd = Path(os.path.abspath(''))\n",
    "encoder_file = cwd / 'build' / 'whisper_base_en' / 'graph_qst7vs0x_qnn_ctx.onnx'\n",
    "decoder_file = cwd / 'build' / 'whisper_base_en' / 'graph_sksc3z46_qnn_ctx.onnx'"
   ]
  },
  {
   "cell_type": "markdown",
   "id": "ac3a0ae9-772d-4e5b-8ae3-df6d3f7d4bdd",
   "metadata": {},
   "source": [
    "## Demo"
   ]
  },
  {
   "cell_type": "code",
   "execution_count": null,
   "id": "14f3f743",
   "metadata": {},
   "outputs": [],
   "source": [
    "from timeit import default_timer as timer"
   ]
  },
  {
   "cell_type": "markdown",
   "id": "1bd717ab",
   "metadata": {},
   "source": [
    "### AIHub Model"
   ]
  },
  {
   "cell_type": "code",
   "execution_count": null,
   "id": "a1be16d8",
   "metadata": {},
   "outputs": [],
   "source": [
    "from demo import load_aihub_model, load_demo_audio\n",
    "\n",
    "# Load whisper model\n",
    "start_time = timer()\n",
    "app = load_aihub_model()\n",
    "logger.info(\n",
    "  f\"Model loading took: {round(timer() - start_time, 2)} seconds\")"
   ]
  },
  {
   "cell_type": "markdown",
   "id": "cf520c56-3740-49e7-a407-b1a10d24b5bc",
   "metadata": {},
   "source": [
    "**Qualcomm Sample Audio**"
   ]
  },
  {
   "cell_type": "code",
   "execution_count": null,
   "id": "87d7bd6b-eaaf-4ab4-b692-27492d42155c",
   "metadata": {},
   "outputs": [],
   "source": [
    "from demo import load_demo_audio\n",
    "\n",
    "audio, sample_rate = load_demo_audio()\n",
    "start_time = timer()\n",
    "transcription = app.transcribe(audio, sample_rate)\n",
    "\n",
    "logger.info(\n",
    "  f\"Transcribing took: {round(timer() - start_time, 2)} seconds\")\n",
    "print(f\"Audio length: {round(len(audio) / sample_rate, 2)} seconds\")\n",
    "print(f\"Word count: {len(transcription.split())}\")\n",
    "print(f\"Transcription:\\n{transcription}\")"
   ]
  },
  {
   "cell_type": "markdown",
   "id": "7c3ed52f",
   "metadata": {},
   "source": [
    "**Mono MP3**"
   ]
  },
  {
   "cell_type": "code",
   "execution_count": null,
   "id": "b3e0e1b0",
   "metadata": {},
   "outputs": [],
   "source": [
    "from audio2numpy import open_audio\n",
    "\n",
    "root = Path(os.path.abspath('../../..'))\n",
    "data_dir = root / 'data'/ 'speech'\n",
    "audio_file = str(data_dir / 'nce_04_47_mono.mp3')\n",
    "\n",
    "audio, sample_rate = open_audio(audio_file)\n",
    "\n",
    "start_time = timer()\n",
    "transcription = app.transcribe(audio, sample_rate)\n",
    "\n",
    "logger.info(\n",
    "  f\"Transcribing took: {round(timer() - start_time, 2)} seconds\")\n",
    "print(f\"Audio length: {round(len(audio) / sample_rate, 2)} seconds\")\n",
    "print(f\"Word count: {len(transcription.split())}\")\n",
    "print(f\"Transcription:\\n{transcription}\")"
   ]
  }
 ],
 "metadata": {
  "kernelspec": {
   "display_name": "Python 3 (ipykernel)",
   "language": "python",
   "name": "python3"
  },
  "language_info": {
   "codemirror_mode": {
    "name": "ipython",
    "version": 3
   },
   "file_extension": ".py",
   "mimetype": "text/x-python",
   "name": "python",
   "nbconvert_exporter": "python",
   "pygments_lexer": "ipython3",
   "version": "3.10.15"
  }
 },
 "nbformat": 4,
 "nbformat_minor": 5
}
